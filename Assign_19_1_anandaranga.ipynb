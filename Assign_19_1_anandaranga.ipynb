{
 "cells": [
  {
   "cell_type": "markdown",
   "metadata": {},
   "source": [
    "## Assignment 19.1\n",
    "### ACD MDS (Mar 2018 batch) Student: K. Anandaranga "
   ]
  },
  {
   "cell_type": "code",
   "execution_count": 1,
   "metadata": {},
   "outputs": [],
   "source": [
    "# Problem Statement 1: Is gender independent of education level? \n",
    "\n",
    "# A random sample of 395 people were surveyed and each person was asked to report the highest education level they obtained.\n",
    "# The data that resulted from the survey is summarized in the following table:\n",
    "\n",
    "#          High School   Bachelors   Masters   PhD.   Total\n",
    "#Female        60            54        46       41     201\n",
    "#Male          40            44        53       57     194\n",
    "#Total        100            98        99       98     395\n",
    "\n",
    "# Question: Are gender and education level dependent at 5% level of significance? \n",
    "# In other words, given the data collected above, is there a relationship between the gender of an individual and \n",
    "# the level of education that they have obtained?"
   ]
  },
  {
   "cell_type": "code",
   "execution_count": 68,
   "metadata": {},
   "outputs": [
    {
     "name": "stdout",
     "output_type": "stream",
     "text": [
      "[[ 50.88607595  49.86835443  50.37721519  49.86835443]\n",
      " [ 49.11392405  48.13164557  48.62278481  48.13164557]]\n",
      "Test Statistic: 8.00607\n",
      "  p-value: 0.04589\n",
      "  Degrees of Freedom: 3\n",
      "\n",
      "Reject Ho; conclude that there is a relationship bet' Gender and Education level\n"
     ]
    }
   ],
   "source": [
    "import pandas as pd\n",
    "import numpy as np\n",
    "import scipy.stats as stat\n",
    "\n",
    "alpha = 0.05                     # level of significance\n",
    "\n",
    "# observed values\n",
    "females = [60, 54, 46, 41]       # HS, BS, MS, PhD in that order\n",
    "males = [40, 44, 53, 57]\n",
    "\n",
    "chi2, p, ddof, expected = stat.chi2_contingency( [ females_count, males_count ] )\n",
    "\n",
    "print( expected )  # expected values as calculated per Chi Square statistic\n",
    "\n",
    "msg = \"Test Statistic: {:0.5f}\\n  p-value: {:0.5f}\\n  Degrees of Freedom: {}\\n\"\n",
    "print( msg.format( chi2, p, ddof ) )\n",
    "\n",
    "if p < alpha:\n",
    "    print (\"Reject Ho; conclude that there is a relationship bet' Gender and Education level\")\n",
    "else:\n",
    "    print (\"Cannot Reject Ho - there is no relationship bet' Gender and Education level\")"
   ]
  },
  {
   "cell_type": "code",
   "execution_count": null,
   "metadata": {},
   "outputs": [],
   "source": []
  }
 ],
 "metadata": {
  "kernelspec": {
   "display_name": "Python 3",
   "language": "python",
   "name": "python3"
  },
  "language_info": {
   "codemirror_mode": {
    "name": "ipython",
    "version": 3
   },
   "file_extension": ".py",
   "mimetype": "text/x-python",
   "name": "python",
   "nbconvert_exporter": "python",
   "pygments_lexer": "ipython3",
   "version": "3.6.1"
  }
 },
 "nbformat": 4,
 "nbformat_minor": 2
}
